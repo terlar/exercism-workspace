{
 "cells": [
  {
   "cell_type": "markdown",
   "metadata": {},
   "source": [
    "# Hello World\n",
    "\n",
    "The classical introductory exercise. Just say \"Hello, World!\".\n",
    "\n",
    "[\"Hello, World!\"](http://en.wikipedia.org/wiki/%22Hello,_world!%22_program) is\n",
    "the traditional first program for beginning programming in a new language\n",
    "or environment.\n",
    "\n",
    "The objectives are simple:\n",
    "\n",
    "- Write a function that returns the string \"Hello, World!\".\n",
    "- Run the test suite and make sure that it succeeds.\n",
    "- Submit your solution and check it at the website.\n",
    "\n",
    "If everything goes well, you will be ready to fetch your first real exercise.\n",
    "## Source\n",
    "\n",
    "This is an exercise to introduce users to using Exercism [http://en.wikipedia.org/wiki/%22Hello,_world!%22_program](http://en.wikipedia.org/wiki/%22Hello,_world!%22_program)\n",
    "\n",
    "\n",
    "## Version compatibility\n",
    "Julia 1.0 and 0.7 are the only supported Julia versions on Exercism.\n",
    "For the most part, the test suites and solutions should be compatible to 0.6, but you will have to change `using Test` back to `using Base.Test` in the `runtests.jl` file.\n",
    "Note that 0.7 and 1.0 are almost identical, except for deprecation warnings, which have all been removed in 1.0.\n",
    "\n",
    "## Submitting Incomplete Solutions\n",
    "It's possible to submit an incomplete solution so you can see how others have completed the exercise.\n"
   ]
  },
  {
   "cell_type": "code",
   "execution_count": null,
   "metadata": {},
   "outputs": [],
   "source": [
    "# submit\n",
    "function hello()\n",
    "\n",
    "end\n"
   ]
  },
  {
   "cell_type": "code",
   "execution_count": null,
   "metadata": {},
   "outputs": [],
   "source": [
    "using Test\n",
    "\n",
    "# include(\"hello-world.jl\")\n",
    "\n",
    "@testset \"Say Hi!\" begin\n",
    "    @test hello() == \"Hello, World!\"\n",
    "end\n"
   ]
  },
  {
   "cell_type": "code",
   "execution_count": null,
   "metadata": {},
   "outputs": [],
   "source": [
    "# To submit your exercise, you need to save your solution in a file called hello-world.jl before using the CLI.\n",
    "# You can either create it manually or use the following functions, which will automatically\n",
    "# save every notebook cell starting with `# submit` in that file.\n",
    "\n",
    "# Pkg.add(\"Exercism\")\n",
    "# using Exercism\n",
    "# Exercism.create_submission(\"hello-world\")\n"
   ]
  }
 ],
 "metadata": {},
 "nbformat": 4,
 "nbformat_minor": 2
}
